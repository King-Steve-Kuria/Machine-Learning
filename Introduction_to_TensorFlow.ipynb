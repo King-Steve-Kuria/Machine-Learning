{
  "nbformat": 4,
  "nbformat_minor": 0,
  "metadata": {
    "colab": {
      "name": "Introduction to TensorFlow.ipynb",
      "provenance": [],
      "collapsed_sections": [],
      "authorship_tag": "ABX9TyOTmr7yJUEA/5p3hi2ffkAc",
      "include_colab_link": true
    },
    "kernelspec": {
      "name": "python3",
      "display_name": "Python 3"
    }
  },
  "cells": [
    {
      "cell_type": "markdown",
      "metadata": {
        "id": "view-in-github",
        "colab_type": "text"
      },
      "source": [
        "<a href=\"https://colab.research.google.com/github/King-Steve-Kuria/Machine-Learning/blob/main/Introduction_to_TensorFlow.ipynb\" target=\"_parent\"><img src=\"https://colab.research.google.com/assets/colab-badge.svg\" alt=\"Open In Colab\"/></a>"
      ]
    },
    {
      "cell_type": "code",
      "metadata": {
        "id": "yTMFOiKTFQPu"
      },
      "source": [
        "import numpy as np"
      ],
      "execution_count": null,
      "outputs": []
    },
    {
      "cell_type": "code",
      "metadata": {
        "id": "mTuFLFMqFZMh"
      },
      "source": [
        "import tensorflow as tf #call the function"
      ],
      "execution_count": null,
      "outputs": []
    },
    {
      "cell_type": "markdown",
      "metadata": {
        "id": "in7ld2FJFxo4"
      },
      "source": [
        "Assume we define an input to the network (x) and the variable (parameters) w1, b1, w2, b2.\n",
        "We feed this to the network"
      ]
    },
    {
      "cell_type": "code",
      "metadata": {
        "id": "0sUsMc4qFrFq"
      },
      "source": [
        "x = np.random.normal(size = [1,4]).astype('float32')"
      ],
      "execution_count": null,
      "outputs": []
    },
    {
      "cell_type": "code",
      "metadata": {
        "id": "sSaHyPy_GO6y",
        "colab": {
          "base_uri": "https://localhost:8080/",
          "height": 52
        },
        "outputId": "857eab69-d517-48b1-9123-79260000b98b"
      },
      "source": [
        "x"
      ],
      "execution_count": null,
      "outputs": [
        {
          "output_type": "execute_result",
          "data": {
            "text/plain": [
              "array([[-0.47073025,  0.37153766, -1.0662918 , -0.27978653]],\n",
              "      dtype=float32)"
            ]
          },
          "metadata": {
            "tags": []
          },
          "execution_count": 6
        }
      ]
    },
    {
      "cell_type": "code",
      "metadata": {
        "id": "kz6zLOWtGXzG"
      },
      "source": [
        "init = tf.keras.initializers.RandomNormal()"
      ],
      "execution_count": null,
      "outputs": []
    },
    {
      "cell_type": "code",
      "metadata": {
        "id": "8E0fiyVvGfZN",
        "colab": {
          "base_uri": "https://localhost:8080/",
          "height": 35
        },
        "outputId": "9a8ceb20-40ee-4960-aac0-c6ed13897494"
      },
      "source": [
        "init"
      ],
      "execution_count": null,
      "outputs": [
        {
          "output_type": "execute_result",
          "data": {
            "text/plain": [
              "<tensorflow.python.ops.init_ops_v2.RandomNormal at 0x7fdb6a60ca58>"
            ]
          },
          "metadata": {
            "tags": []
          },
          "execution_count": 8
        }
      ]
    },
    {
      "cell_type": "code",
      "metadata": {
        "id": "o0nAL3jFGgNa"
      },
      "source": [
        "w1 = tf.Variable(init(shape = [4,3]))"
      ],
      "execution_count": null,
      "outputs": []
    },
    {
      "cell_type": "code",
      "metadata": {
        "id": "v1hVz3MZGoMN",
        "colab": {
          "base_uri": "https://localhost:8080/",
          "height": 104
        },
        "outputId": "780613ca-322d-4c29-93ef-2451480e39c2"
      },
      "source": [
        "w1"
      ],
      "execution_count": null,
      "outputs": [
        {
          "output_type": "execute_result",
          "data": {
            "text/plain": [
              "<tf.Variable 'Variable:0' shape=(4, 3) dtype=float32, numpy=\n",
              "array([[ 0.0401734 , -0.03405194,  0.01179464],\n",
              "       [-0.03820146,  0.00198782,  0.03907048],\n",
              "       [ 0.04702323,  0.04600145,  0.12416788],\n",
              "       [-0.05178835,  0.02359594,  0.00855441]], dtype=float32)>"
            ]
          },
          "metadata": {
            "tags": []
          },
          "execution_count": 10
        }
      ]
    },
    {
      "cell_type": "code",
      "metadata": {
        "id": "_iYFJ_GyI2Rz",
        "colab": {
          "base_uri": "https://localhost:8080/",
          "height": 35
        },
        "outputId": "8c002166-90f6-4497-b237-4b18e34fdc3c"
      },
      "source": [
        "type(w1)"
      ],
      "execution_count": null,
      "outputs": [
        {
          "output_type": "execute_result",
          "data": {
            "text/plain": [
              "tensorflow.python.ops.resource_variable_ops.ResourceVariable"
            ]
          },
          "metadata": {
            "tags": []
          },
          "execution_count": 22
        }
      ]
    },
    {
      "cell_type": "code",
      "metadata": {
        "id": "bj_5NN8FGotA"
      },
      "source": [
        "b1 = tf.Variable(init(shape = [1,3]))"
      ],
      "execution_count": null,
      "outputs": []
    },
    {
      "cell_type": "code",
      "metadata": {
        "id": "qmofQ3xwG4Mq",
        "colab": {
          "base_uri": "https://localhost:8080/",
          "height": 35
        },
        "outputId": "5d87b297-dea0-4cf9-ba3a-31d3fe011c97"
      },
      "source": [
        "b1"
      ],
      "execution_count": null,
      "outputs": [
        {
          "output_type": "execute_result",
          "data": {
            "text/plain": [
              "<tf.Variable 'Variable:0' shape=(1, 3) dtype=float32, numpy=array([[ 0.00590887,  0.06594347, -0.02377008]], dtype=float32)>"
            ]
          },
          "metadata": {
            "tags": []
          },
          "execution_count": 12
        }
      ]
    },
    {
      "cell_type": "markdown",
      "metadata": {
        "id": "4mGv1YXtHKx3"
      },
      "source": [
        "the matrices are 4 by 3 /// 1 by 3"
      ]
    },
    {
      "cell_type": "code",
      "metadata": {
        "id": "9RUo1SstG4qm"
      },
      "source": [
        "w2 = tf.Variable(init(shape = [3,2]))"
      ],
      "execution_count": null,
      "outputs": []
    },
    {
      "cell_type": "code",
      "metadata": {
        "id": "tUXiFCV5HZlf",
        "colab": {
          "base_uri": "https://localhost:8080/",
          "height": 87
        },
        "outputId": "6a296198-3456-404f-9edd-caf29a86fca4"
      },
      "source": [
        "w2"
      ],
      "execution_count": null,
      "outputs": [
        {
          "output_type": "execute_result",
          "data": {
            "text/plain": [
              "<tf.Variable 'Variable:0' shape=(3, 2) dtype=float32, numpy=\n",
              "array([[ 0.02374139, -0.01243823],\n",
              "       [ 0.020197  ,  0.01279376],\n",
              "       [-0.06224916, -0.02023866]], dtype=float32)>"
            ]
          },
          "metadata": {
            "tags": []
          },
          "execution_count": 14
        }
      ]
    },
    {
      "cell_type": "code",
      "metadata": {
        "id": "fSXM5CJlHaKq"
      },
      "source": [
        "b2 = tf.Variable(init(shape = [1,2]))"
      ],
      "execution_count": null,
      "outputs": []
    },
    {
      "cell_type": "code",
      "metadata": {
        "id": "Kmjc80qSHk4z",
        "colab": {
          "base_uri": "https://localhost:8080/",
          "height": 35
        },
        "outputId": "a481b0f7-d1ff-4797-a775-09b2577d0c6c"
      },
      "source": [
        "b2"
      ],
      "execution_count": null,
      "outputs": [
        {
          "output_type": "execute_result",
          "data": {
            "text/plain": [
              "<tf.Variable 'Variable:0' shape=(1, 2) dtype=float32, numpy=array([[-0.02960641, -0.08611146]], dtype=float32)>"
            ]
          },
          "metadata": {
            "tags": []
          },
          "execution_count": 16
        }
      ]
    },
    {
      "cell_type": "markdown",
      "metadata": {
        "id": "rRKthBycHo89"
      },
      "source": [
        "w1, w2, b1, b2 are all tensorflow variables, behave in a similar with typical python variables"
      ]
    },
    {
      "cell_type": "code",
      "metadata": {
        "id": "oajV_l_HHliM"
      },
      "source": [
        "@tf.function\n",
        "def forward(x,w,b, act):\n",
        "  return act(tf.matmul(x,w)+b)"
      ],
      "execution_count": null,
      "outputs": []
    },
    {
      "cell_type": "code",
      "metadata": {
        "id": "rO16GK8mIMa9"
      },
      "source": [
        "h = forward(x,w1,b1,tf.nn.sigmoid)"
      ],
      "execution_count": null,
      "outputs": []
    },
    {
      "cell_type": "code",
      "metadata": {
        "id": "OvRXfpQDIfbF",
        "colab": {
          "base_uri": "https://localhost:8080/",
          "height": 35
        },
        "outputId": "faf5fa6a-448b-45f0-8645-5fdf423b4e82"
      },
      "source": [
        "h"
      ],
      "execution_count": null,
      "outputs": [
        {
          "output_type": "execute_result",
          "data": {
            "text/plain": [
              "<tf.Tensor: shape=(1, 3), dtype=float32, numpy=array([[0.4842937 , 0.50676423, 0.46266997]], dtype=float32)>"
            ]
          },
          "metadata": {
            "tags": []
          },
          "execution_count": 19
        }
      ]
    },
    {
      "cell_type": "code",
      "metadata": {
        "id": "iQ4BuDniJt-a"
      },
      "source": [
        ""
      ],
      "execution_count": null,
      "outputs": []
    }
  ]
}